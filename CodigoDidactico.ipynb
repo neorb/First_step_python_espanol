{
 "cells": [
  {
   "cell_type": "markdown",
   "metadata": {},
   "source": [
    "# Añadir Estilos de Texto usando Markdown \n",
    "\n",
    "Documentar tu codigo es una excelente manera de hacer tu Notebook informativo y explicativo para otros y para ti. Añadir Introducción, explicar el codigo, hacer un resumen de lo que vas ha estar utilizando en tu trabajo es una de las maneras profesionales que puede presentar un Desarrollador. Usando Markdown puedes dar Estilo y Profesianalidad a tus trabajos."
   ]
  },
  {
   "cell_type": "markdown",
   "metadata": {},
   "source": [
    "Por ejemplo, puedes usar uno o más caracteres utilizando el simbolo de `#` al comienzo de una línea para crear encabezados de diferentes tamaños:"
   ]
  },
  {
   "cell_type": "markdown",
   "metadata": {},
   "source": [
    "# CodigoDidactico\n",
    "## CodigoDidactico\n",
    "### codigoDidactico\n",
    "#### CodigoDidactico\n",
    "\n",
    "Para Crear Lista Numerica o Bulleted, empieze con * o 1.\n",
    "\n",
    "Lista Bulleted:\n",
    "* Codigo\n",
    "* Didactico\n",
    "* CodidocDidactico\n",
    "\n",
    "Lista Numerica:\n",
    "1. Codigo\n",
    "2. Didactico\n",
    "3. CodigoDidactico\n",
    "\n",
    "Crear Linea Italica y Bold(empeize con ** \"para bold\" y *** \"para Italica\") :\n",
    "\n",
    "Italica:\n",
    "\n",
    "*CodigoDidactico*\n",
    "\n",
    "Bold:\n",
    "\n",
    "**CodigoDidactico**\n",
    "\n",
    "Cursiva y Bold:\n",
    "\n",
    "***CodigoDidacto***\n",
    "\n",
    "Cursiva, Bold con Bullet:\n",
    "\n",
    "* ***CodigoDidactico***"
   ]
  },
  {
   "cell_type": "markdown",
   "metadata": {},
   "source": [
    "# Aritmética"
   ]
  },
  {
   "cell_type": "markdown",
   "metadata": {},
   "source": [
    "Operaciones matemáticas con Python:\n",
    "\n",
    "| Operator   | Purpose           | Example     | Result    |\n",
    "|------------|-------------------|-------------|-----------|\n",
    "| `+`        | Suma              | `2 + 3`     | `5`       |\n",
    "| `-`        | Resta             | `14 - 3`    | `11`      |\n",
    "| `*`        | Multiplicacion    | `8 * 12`    | `96`      |\n",
    "| `/`        | Division          | `100 / 7`   | `14.28..` |\n",
    "| `//`       | Division Entera   | `100 // 5`  | `20`      |    \n",
    "| `%`        | Modulo(Resto)     | `100 % 6`   | `4`       |\n",
    "| `**`       | Potenciacion      | `5 ** 5`    | `3125`    |"
   ]
  },
  {
   "cell_type": "code",
   "execution_count": 2,
   "metadata": {},
   "outputs": [
    {
     "data": {
      "text/plain": [
       "6"
      ]
     },
     "execution_count": 2,
     "metadata": {},
     "output_type": "execute_result"
    }
   ],
   "source": [
    "\"\"\"\n",
    "El operador + suma los valores de tipo de datos numéricos.\n",
    "\"\"\"\n",
    "1 + 2 + 3"
   ]
  },
  {
   "cell_type": "code",
   "execution_count": 3,
   "metadata": {},
   "outputs": [
    {
     "data": {
      "text/plain": [
       "11"
      ]
     },
     "execution_count": 3,
     "metadata": {},
     "output_type": "execute_result"
    }
   ],
   "source": [
    "\"\"\"\n",
    "El operador - resta los valores de tipo de datos numéricos.\n",
    "\"\"\"\n",
    "14 - 3"
   ]
  },
  {
   "cell_type": "code",
   "execution_count": 4,
   "metadata": {},
   "outputs": [
    {
     "data": {
      "text/plain": [
       "14.285714285714286"
      ]
     },
     "execution_count": 4,
     "metadata": {},
     "output_type": "execute_result"
    }
   ],
   "source": [
    "\"\"\"\n",
    "El operador división el resultado que se devuelve es un número real.\n",
    "\"\"\"\n",
    "100 / 7"
   ]
  },
  {
   "cell_type": "code",
   "execution_count": 5,
   "metadata": {},
   "outputs": [
    {
     "data": {
      "text/plain": [
       "20"
      ]
     },
     "execution_count": 5,
     "metadata": {},
     "output_type": "execute_result"
    }
   ],
   "source": [
    "\"\"\"\n",
    "El perador division entera el resultado que se devuelve es solo la parte entera.\n",
    "\"\"\"\n",
    "100 // 5"
   ]
  },
  {
   "cell_type": "code",
   "execution_count": 6,
   "metadata": {},
   "outputs": [
    {
     "data": {
      "text/plain": [
       "1"
      ]
     },
     "execution_count": 6,
     "metadata": {},
     "output_type": "execute_result"
    }
   ],
   "source": [
    "\"\"\"\n",
    "El operador módulo no hace otra cosa que devolver el resto de la división entre los dos operandos. \n",
    "En el ejemplo, 7 / 2 sería 3, con 1 de resto, luego el módulo es 1.\n",
    "\"\"\"\n",
    "7 % 2"
   ]
  },
  {
   "cell_type": "code",
   "execution_count": 7,
   "metadata": {},
   "outputs": [
    {
     "data": {
      "text/plain": [
       "3125"
      ]
     },
     "execution_count": 7,
     "metadata": {},
     "output_type": "execute_result"
    }
   ],
   "source": [
    "\"\"\"\n",
    "El operador ** calcula el exponente entre valores de tipo de datos numéricos.\n",
    "\"\"\"\n",
    "5 ** 5"
   ]
  },
  {
   "cell_type": "code",
   "execution_count": 8,
   "metadata": {},
   "outputs": [
    {
     "data": {
      "text/plain": [
       "0.1527777777777778"
      ]
     },
     "execution_count": 8,
     "metadata": {},
     "output_type": "execute_result"
    }
   ],
   "source": [
    "((1 + 2) * (14 - 3)) / (6 ** 3)"
   ]
  },
  {
   "cell_type": "markdown",
   "metadata": {},
   "source": [
    "# Variables\n",
    "\n",
    "En programación, una variable está formada por un espacio en el sistema de almacenaje (memoria principal de un ordenador) y un nombre simbólico (un identificador) que está asociado a dicho espacio. Ese espacio contiene una cantidad de información conocida o desconocida, es decir un valor. \n",
    "\n",
    "***fuente Wikipedia***\n"
   ]
  },
  {
   "cell_type": "markdown",
   "metadata": {},
   "source": [
    "### Dos Amiguitos combaten con la crisis.\n",
    "\n",
    "El ***Covid-19(Corana Virus)*** ha afectado la economia de un pequeño pueblo en el cual viven dos amigitos. Ellos se proponen un proyecto para hacer un poco de dinero y asi poder ayudar a sus padres. Deciden recoger manzanas en el campo para venderlas en el mercado. \n",
    "\n",
    "Ellos recogen 100 Manzanas, las venden por $1.50 y tienen que dividir las ganancias entre los dos.\n",
    "\n",
    "- Cuanto le tecarian a cada uno?"
   ]
  },
  {
   "cell_type": "code",
   "execution_count": 9,
   "metadata": {},
   "outputs": [],
   "source": [
    "# Store input data in varialbe Amigos\n",
    "Amigos = 2"
   ]
  },
  {
   "cell_type": "code",
   "execution_count": 10,
   "metadata": {},
   "outputs": [],
   "source": [
    "# Store input data in Manzanas\n",
    "Manzanas = 100"
   ]
  },
  {
   "cell_type": "code",
   "execution_count": 11,
   "metadata": {},
   "outputs": [],
   "source": [
    "# Store input data in varialbe precio\n",
    "precio = 1.50"
   ]
  },
  {
   "cell_type": "code",
   "execution_count": 12,
   "metadata": {},
   "outputs": [],
   "source": [
    "# Store input data in Ganancias\n",
    "Ganancias = Manzanas * precio"
   ]
  },
  {
   "cell_type": "code",
   "execution_count": 13,
   "metadata": {},
   "outputs": [
    {
     "data": {
      "text/plain": [
       "150.0"
      ]
     },
     "execution_count": 13,
     "metadata": {},
     "output_type": "execute_result"
    }
   ],
   "source": [
    "#Call the variable Ganancias\n",
    "Ganancias"
   ]
  },
  {
   "cell_type": "code",
   "execution_count": 14,
   "metadata": {},
   "outputs": [
    {
     "data": {
      "text/plain": [
       "75.0"
      ]
     },
     "execution_count": 14,
     "metadata": {},
     "output_type": "execute_result"
    }
   ],
   "source": [
    "#Perfofm the required calculations\n",
    "Beneficios = Ganancias / Amigos\n",
    "Beneficios"
   ]
  },
  {
   "cell_type": "code",
   "execution_count": 15,
   "metadata": {},
   "outputs": [
    {
     "data": {
      "text/plain": [
       "75.0"
      ]
     },
     "execution_count": 15,
     "metadata": {},
     "output_type": "execute_result"
    }
   ],
   "source": [
    "100 * 1.50 / 2"
   ]
  },
  {
   "cell_type": "code",
   "execution_count": 17,
   "metadata": {},
   "outputs": [
    {
     "name": "stdout",
     "output_type": "stream",
     "text": [
      "Ganacias total divido entre dos empleado es $: 75.0\n"
     ]
    }
   ],
   "source": [
    "# Store input data in varialbe\n",
    "Amigos = 2\n",
    "Manzanas = 100\n",
    "precio = 1.50\n",
    "\n",
    "# Perform the required calculations\n",
    "Ganancias = Manzanas * precio\n",
    "Beneficios = Ganancias / Amigos\n",
    "\n",
    "\n",
    "#Display the resutl\n",
    "print(\"Ganacias total divido entre dos empleado es $:\", Beneficios)"
   ]
  },
  {
   "cell_type": "markdown",
   "metadata": {},
   "source": [
    "## Evaluando Condiciones usando Python\n",
    "\n",
    "Ademas de las operaciones aritmeticas, Python tambien proporcina varias opciones para comparar numeros y variables.\n",
    "\n",
    "| Operator    | Description                                                           |\n",
    "|-------------|-----------------------------------------------------------------------|\n",
    "| `==`        | Evalua si los valores son iguale                                      |\n",
    "| `!=`        | Evalua si los valores no son iguale                                   |\n",
    "| `>`         | Evalua si el valor Izquierdo es mayor que el valor Derecho            |\n",
    "| `<`         | Evalua si el valor Izquierdo es menor que el valor Derecho            |\n",
    "| `>=`        | Evalua si el valor Izquierdo es Mayor o igual que el valor Derecho    |\n",
    "| `<=`        | Evalua si el valor Izquierdo es Menor o igual que el valor Derecho    |\n",
    "\n",
    "El resultado de una operación de comparación es `True` o `False` (tenga en cuenta la `T` y la `F` mayúsculas). Estas son palabras clave especiales en Python. Probemos un experimento con operadores de comparación."
   ]
  },
  {
   "cell_type": "code",
   "execution_count": 18,
   "metadata": {},
   "outputs": [],
   "source": [
    "Juan = 21\n",
    "Jose = 30\n",
    "Pedro = 16\n",
    "Andres = 16"
   ]
  },
  {
   "cell_type": "code",
   "execution_count": 19,
   "metadata": {},
   "outputs": [
    {
     "data": {
      "text/plain": [
       "True"
      ]
     },
     "execution_count": 19,
     "metadata": {},
     "output_type": "execute_result"
    }
   ],
   "source": [
    "#Check if person is equal - \"True\"\n",
    "Juan == 21"
   ]
  },
  {
   "cell_type": "code",
   "execution_count": 20,
   "metadata": {},
   "outputs": [
    {
     "data": {
      "text/plain": [
       "False"
      ]
     },
     "execution_count": 20,
     "metadata": {},
     "output_type": "execute_result"
    }
   ],
   "source": [
    "#check if Juan and Jose are equal -\"False\"\n",
    "Juan == Jose"
   ]
  },
  {
   "cell_type": "code",
   "execution_count": 21,
   "metadata": {},
   "outputs": [
    {
     "data": {
      "text/plain": [
       "True"
      ]
     },
     "execution_count": 21,
     "metadata": {},
     "output_type": "execute_result"
    }
   ],
   "source": [
    "#check if Pedro and Juan are not equal - \"True\"\n",
    "Pedro != Juan"
   ]
  },
  {
   "cell_type": "code",
   "execution_count": 22,
   "metadata": {},
   "outputs": [
    {
     "data": {
      "text/plain": [
       "False"
      ]
     },
     "execution_count": 22,
     "metadata": {},
     "output_type": "execute_result"
    }
   ],
   "source": [
    "#check if Andres and Pedro are not equal - \"False\"\n",
    "Andres != Pedro"
   ]
  },
  {
   "cell_type": "code",
   "execution_count": 23,
   "metadata": {},
   "outputs": [
    {
     "data": {
      "text/plain": [
       "True"
      ]
     },
     "execution_count": 23,
     "metadata": {},
     "output_type": "execute_result"
    }
   ],
   "source": [
    "#Check if Pedro is less than Jose - \"True\"\n",
    "Pedro < Jose"
   ]
  },
  {
   "cell_type": "code",
   "execution_count": 24,
   "metadata": {},
   "outputs": [
    {
     "data": {
      "text/plain": [
       "False"
      ]
     },
     "execution_count": 24,
     "metadata": {},
     "output_type": "execute_result"
    }
   ],
   "source": [
    "#Chek is Pedro is Greater than Jose - \"False\"\n",
    "Pedro > Jose"
   ]
  },
  {
   "cell_type": "code",
   "execution_count": 25,
   "metadata": {},
   "outputs": [
    {
     "data": {
      "text/plain": [
       "True"
      ]
     },
     "execution_count": 25,
     "metadata": {},
     "output_type": "execute_result"
    }
   ],
   "source": [
    "#Check if Juan is greater or equal  than Pedro - \"True\"\n",
    "Juan >= Pedro"
   ]
  },
  {
   "cell_type": "code",
   "execution_count": 26,
   "metadata": {},
   "outputs": [
    {
     "data": {
      "text/plain": [
       "False"
      ]
     },
     "execution_count": 26,
     "metadata": {},
     "output_type": "execute_result"
    }
   ],
   "source": [
    "#Check if Jose is less or equal than Juan - \"False\"\n",
    "Jose <= Juan"
   ]
  },
  {
   "cell_type": "code",
   "execution_count": 27,
   "metadata": {},
   "outputs": [
    {
     "data": {
      "text/plain": [
       "True"
      ]
     },
     "execution_count": 27,
     "metadata": {},
     "output_type": "execute_result"
    }
   ],
   "source": [
    "#compere if both Pedro and Andres are Greater or equal  than Jose - \"True\"\n",
    "Pedro + Andres >= Jose"
   ]
  },
  {
   "cell_type": "code",
   "execution_count": 29,
   "metadata": {},
   "outputs": [
    {
     "name": "stdout",
     "output_type": "stream",
     "text": [
      "No hay persona Mayor de 28\n"
     ]
    }
   ],
   "source": [
    "#dict\n",
    "name = {'Jose':30, 'Andres':16, 'Pedro':16, 'Juan':21}\n",
    "\n",
    "#loop over the variable \"name\"\n",
    "for name, edad in name.items():\n",
    "    if edad > 28:\n",
    "        print(\"Se encontro una persona mayor de 28 años de edad\")\n",
    "        print(\"La persona es:\", name)\n",
    "        break\n",
    "    else:\n",
    "        print(\"No hay persona Mayor de 28\")\n",
    "    break"
   ]
  },
  {
   "cell_type": "markdown",
   "metadata": {},
   "source": [
    "## Combinando condiciones con operadores logicos\n",
    "\n",
    "Los Operadores Logicos `and`, `or` and `not` operan bajo condiciones and `True` & `False` values (tambien conocidos como *booleans*). `and` and `or` operan en dos condiciones, mientras que `not` opera en una sola condición..\n",
    "\n",
    "El operador `and` devuelve `True` cuando ambas condiciones se evalúan como` True`. De lo contrario, devuelve \"False\".\n",
    "\n",
    "| `a`     | `b`    | `a and b` |\n",
    "|---------|--------|-----------|\n",
    "|  `True` | `True` | `True`    |\n",
    "|  `True` | `False`| `False`   |\n",
    "|  `False`| `True` | `False`   |\n",
    "|  `False`| `False`| `False`   |\n"
   ]
  },
  {
   "cell_type": "code",
   "execution_count": 30,
   "metadata": {},
   "outputs": [
    {
     "data": {
      "text/plain": [
       "21"
      ]
     },
     "execution_count": 30,
     "metadata": {},
     "output_type": "execute_result"
    }
   ],
   "source": [
    "Juan"
   ]
  },
  {
   "cell_type": "code",
   "execution_count": 31,
   "metadata": {},
   "outputs": [
    {
     "data": {
      "text/plain": [
       "True"
      ]
     },
     "execution_count": 31,
     "metadata": {},
     "output_type": "execute_result"
    }
   ],
   "source": [
    "Juan > 20 and Juan <= 25"
   ]
  },
  {
   "cell_type": "code",
   "execution_count": 32,
   "metadata": {},
   "outputs": [
    {
     "data": {
      "text/plain": [
       "False"
      ]
     },
     "execution_count": 32,
     "metadata": {},
     "output_type": "execute_result"
    }
   ],
   "source": [
    "Juan < 20 and Juan <= 25"
   ]
  },
  {
   "cell_type": "code",
   "execution_count": 33,
   "metadata": {},
   "outputs": [
    {
     "data": {
      "text/plain": [
       "False"
      ]
     },
     "execution_count": 33,
     "metadata": {},
     "output_type": "execute_result"
    }
   ],
   "source": [
    "Juan > 20 and Juan >= 25"
   ]
  },
  {
   "cell_type": "markdown",
   "metadata": {},
   "source": [
    "## IPython.display\n",
    "\n",
    "IPython.display sirve para mostrar imagenes o audio."
   ]
  },
  {
   "cell_type": "code",
   "execution_count": 34,
   "metadata": {},
   "outputs": [
    {
     "data": {
      "image/png": "[encoded data removed]",
      "text/plain": [
       "<IPython.core.display.Image object>"
      ]
     },
     "execution_count": 34,
     "metadata": {},
     "output_type": "execute_result"
    }
   ],
   "source": [
    "#Importing Image\n",
    "from IPython.display import Image\n",
    "Image(filename=\"Image/Didactico.png\")"
   ]
  },
  {
   "cell_type": "code",
   "execution_count": null,
   "metadata": {},
   "outputs": [],
   "source": []
  }
 ],
 "metadata": {
  "kernelspec": {
   "display_name": "Python 3",
   "language": "python",
   "name": "python3"
  },
  "language_info": {
   "codemirror_mode": {
    "name": "ipython",
    "version": 3
   },
   "file_extension": ".py",
   "mimetype": "text/x-python",
   "name": "python",
   "nbconvert_exporter": "python",
   "pygments_lexer": "ipython3",
   "version": "3.7.4"
  }
 },
 "nbformat": 4,
 "nbformat_minor": 2
}
